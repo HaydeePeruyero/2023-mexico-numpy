{
 "cells": [
  {
   "cell_type": "code",
   "execution_count": null,
   "id": "be894dd2",
   "metadata": {
    "slideshow": {
     "slide_type": "skip"
    }
   },
   "outputs": [],
   "source": [
    "import numpy as np"
   ]
  },
  {
   "cell_type": "markdown",
   "id": "4539d807",
   "metadata": {
    "slideshow": {
     "slide_type": "slide"
    }
   },
   "source": [
    "# 1.1. Fancy indexing\n",
    "\n",
    "You know already how to access single items in an array and how to slice an array. \n",
    "For example for the following array ```a```\n"
   ]
  },
  {
   "cell_type": "code",
   "execution_count": null,
   "id": "80e7b446",
   "metadata": {
    "slideshow": {
     "slide_type": "fragment"
    }
   },
   "outputs": [],
   "source": [
    "a = np.arange(12).reshape((4,3))\n",
    "print(a)"
   ]
  },
  {
   "cell_type": "markdown",
   "id": "29985e1a",
   "metadata": {
    "slideshow": {
     "slide_type": "fragment"
    }
   },
   "source": [
    "to get a single element you would do..."
   ]
  },
  {
   "cell_type": "code",
   "execution_count": null,
   "id": "1ffefa1b",
   "metadata": {
    "slideshow": {
     "slide_type": "fragment"
    }
   },
   "outputs": [],
   "source": [
    "a[0,0]"
   ]
  },
  {
   "cell_type": "markdown",
   "id": "953638c8",
   "metadata": {
    "slideshow": {
     "slide_type": "fragment"
    }
   },
   "source": [
    "to get a *slice* of the array you could do..."
   ]
  },
  {
   "cell_type": "code",
   "execution_count": null,
   "id": "07395962",
   "metadata": {
    "slideshow": {
     "slide_type": "fragment"
    }
   },
   "outputs": [],
   "source": [
    "a[:,2]"
   ]
  },
  {
   "cell_type": "markdown",
   "id": "0564bc33",
   "metadata": {
    "slideshow": {
     "slide_type": "fragment"
    }
   },
   "source": [
    "There is another way of indexing: when you pass multiple lists. \n",
    "They are interpreted as **coordinates to look up**. This is *fancy-indexing*."
   ]
  },
  {
   "cell_type": "code",
   "execution_count": null,
   "id": "5ec6d906",
   "metadata": {
    "slideshow": {
     "slide_type": "fragment"
    }
   },
   "outputs": [],
   "source": [
    "a[[0,1],[1,2]]"
   ]
  },
  {
   "cell_type": "markdown",
   "id": "a9c2b8b6",
   "metadata": {
    "slideshow": {
     "slide_type": "slide"
    }
   },
   "source": [
    "Another example"
   ]
  },
  {
   "cell_type": "code",
   "execution_count": null,
   "id": "7f355557",
   "metadata": {
    "slideshow": {
     "slide_type": "fragment"
    }
   },
   "outputs": [],
   "source": [
    "a = np.array(list(\"ABCDEFGHIJKLMNOPQRSTUVWXYZ1234\")). reshape (5,6)\n",
    "a"
   ]
  },
  {
   "cell_type": "code",
   "execution_count": null,
   "id": "2b6923b5",
   "metadata": {
    "slideshow": {
     "slide_type": "fragment"
    }
   },
   "outputs": [],
   "source": [
    "print (a[[2, 2, 1] ,[2 ,0 ,0]])"
   ]
  },
  {
   "cell_type": "markdown",
   "id": "aab75aa4",
   "metadata": {
    "slideshow": {
     "slide_type": "slide"
    }
   },
   "source": [
    "<div>\n",
    "<img src=\"fancy_indexing_lookup.png\" width=\"800\" align='center'/>\n",
    "</div>"
   ]
  },
  {
   "cell_type": "code",
   "execution_count": null,
   "id": "97ba24e3",
   "metadata": {
    "slideshow": {
     "slide_type": "fragment"
    }
   },
   "outputs": [],
   "source": [
    "rows = np.array([[2, 2, 1], [3, 2, 3]])\n",
    "cols = np.array([[2, 0, 0], [4, 2, 4]])\n",
    "print(rows)\n",
    "print()\n",
    "print(cols)\n",
    "print()\n",
    "print(a[rows, cols])"
   ]
  },
  {
   "cell_type": "markdown",
   "id": "cbdfe89e",
   "metadata": {
    "slideshow": {
     "slide_type": "slide"
    }
   },
   "source": [
    "### You can also mix fancy indexing with \"normal\" indexing or slicing"
   ]
  },
  {
   "cell_type": "code",
   "execution_count": null,
   "id": "7e4b2f63",
   "metadata": {},
   "outputs": [],
   "source": []
  },
  {
   "cell_type": "markdown",
   "id": "e68db63a",
   "metadata": {
    "slideshow": {
     "slide_type": "slide"
    }
   },
   "source": [
    "### Fancy indexing also work with booleans"
   ]
  },
  {
   "cell_type": "code",
   "execution_count": null,
   "id": "813a239e",
   "metadata": {
    "slideshow": {
     "slide_type": "fragment"
    }
   },
   "outputs": [],
   "source": []
  },
  {
   "cell_type": "code",
   "execution_count": null,
   "id": "aa7f8b25",
   "metadata": {},
   "outputs": [],
   "source": []
  },
  {
   "cell_type": "markdown",
   "id": "67ad29a5",
   "metadata": {
    "slideshow": {
     "slide_type": "slide"
    }
   },
   "source": [
    "### Masking\n",
    "\n",
    "Alternatively you can use the argument ```mask``` to select and operate on only a subset of the array"
   ]
  },
  {
   "cell_type": "code",
   "execution_count": null,
   "id": "1a5c5c6e",
   "metadata": {},
   "outputs": [],
   "source": []
  },
  {
   "cell_type": "code",
   "execution_count": null,
   "id": "dc011086",
   "metadata": {},
   "outputs": [],
   "source": []
  },
  {
   "cell_type": "markdown",
   "id": "cea68b31",
   "metadata": {
    "slideshow": {
     "slide_type": "slide"
    }
   },
   "source": [
    "# 1.2 Views and Copies: an important distinction!\n",
    "\n",
    "\n",
    "**View**\n",
    "\n",
    "- accessing the array without changing the databuffer \n",
    "- *simple indexing* and *slicing* give views\n",
    "- *in-place* operations can be done in views\n",
    "\n",
    "\n",
    "**Copy**\n",
    "- when a new array is created by duplicating the data buffer as well as the array metadata\n",
    "- *fancy indexing* give always copies\n",
    "- a copy can be forced by method .copy()\n",
    "\n",
    "How to know? with ```base```"
   ]
  },
  {
   "cell_type": "code",
   "execution_count": null,
   "id": "c3150638",
   "metadata": {
    "lines_to_next_cell": 2,
    "slideshow": {
     "slide_type": "fragment"
    }
   },
   "outputs": [],
   "source": [
    "a = np.arange(1,6)\n",
    "v = a[2:5] # v is a view\n",
    "print(v)\n",
    "v.base  # returns the 'base' array"
   ]
  },
  {
   "cell_type": "code",
   "execution_count": null,
   "id": "61e9ac81",
   "metadata": {
    "slideshow": {
     "slide_type": "fragment"
    }
   },
   "outputs": [],
   "source": [
    "w = a.copy()\n",
    "w.base  # returns None\n",
    "w.base==None"
   ]
  },
  {
   "cell_type": "markdown",
   "id": "6446c6a7",
   "metadata": {
    "slideshow": {
     "slide_type": "slide"
    }
   },
   "source": [
    "As a copy is a different array in memory, modifiying it will *not* change the base array"
   ]
  },
  {
   "cell_type": "code",
   "execution_count": null,
   "id": "728a2740",
   "metadata": {
    "slideshow": {
     "slide_type": "fragment"
    }
   },
   "outputs": [],
   "source": [
    "a = np.arange(1, 6)\n",
    "print('a:', a)\n",
    "v = a[[1,2]]\n",
    "print('v', v)"
   ]
  },
  {
   "cell_type": "code",
   "execution_count": null,
   "id": "2c44117d",
   "metadata": {
    "slideshow": {
     "slide_type": "fragment"
    }
   },
   "outputs": [],
   "source": [
    "v[0] = 3\n",
    "print('v:', v)\n",
    "print('a:', a)"
   ]
  },
  {
   "cell_type": "markdown",
   "id": "adaf1f45",
   "metadata": {
    "slideshow": {
     "slide_type": "fragment"
    }
   },
   "source": [
    "The same operation with a *view*, however, will carry the change "
   ]
  },
  {
   "cell_type": "code",
   "execution_count": null,
   "id": "5f35b190",
   "metadata": {},
   "outputs": [],
   "source": [
    "v = a[1:3]\n",
    "v[0] = 3\n",
    "print('v:', v)\n",
    "print('a:', a)"
   ]
  },
  {
   "cell_type": "markdown",
   "id": "e7bccdc1",
   "metadata": {
    "slideshow": {
     "slide_type": "slide"
    }
   },
   "source": [
    "# Exercises on indexing, fancy indexing, views/copies"
   ]
  },
  {
   "cell_type": "code",
   "execution_count": null,
   "id": "1c8449f8",
   "metadata": {},
   "outputs": [],
   "source": []
  },
  {
   "cell_type": "code",
   "execution_count": null,
   "id": "5692a26f",
   "metadata": {},
   "outputs": [],
   "source": []
  }
 ],
 "metadata": {
  "jupytext": {
   "formats": "auto:percent,ipynb"
  },
  "kernelspec": {
   "display_name": "Python 3 (ipykernel)",
   "language": "python",
   "name": "python3"
  },
  "language_info": {
   "codemirror_mode": {
    "name": "ipython",
    "version": 3
   },
   "file_extension": ".py",
   "mimetype": "text/x-python",
   "name": "python",
   "nbconvert_exporter": "python",
   "pygments_lexer": "ipython3",
   "version": "3.8.13"
  }
 },
 "nbformat": 4,
 "nbformat_minor": 5
}
