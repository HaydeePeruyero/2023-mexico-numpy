{
 "cells": [
  {
   "cell_type": "markdown",
   "id": "d03d2b5c",
   "metadata": {
    "slideshow": {
     "slide_type": "slide"
    }
   },
   "source": [
    "# Part 1: Fancy indexing, views and copies and sorting\n",
    "## Advanced Numpy - ASPP LATAM - Mexico 2023 "
   ]
  },
  {
   "cell_type": "code",
   "execution_count": 1,
   "id": "be894dd2",
   "metadata": {
    "slideshow": {
     "slide_type": "skip"
    }
   },
   "outputs": [],
   "source": [
    "import numpy as np"
   ]
  },
  {
   "cell_type": "markdown",
   "id": "4539d807",
   "metadata": {
    "slideshow": {
     "slide_type": "slide"
    }
   },
   "source": [
    "# 1.1. Fancy indexing\n",
    "\n",
    "You know already how to access single items in an array and how to slice an array. \n",
    "For example for the following array ```a```\n"
   ]
  },
  {
   "cell_type": "code",
   "execution_count": 2,
   "id": "80e7b446",
   "metadata": {
    "slideshow": {
     "slide_type": "fragment"
    }
   },
   "outputs": [
    {
     "name": "stdout",
     "output_type": "stream",
     "text": [
      "[[ 0  1  2]\n",
      " [ 3  4  5]\n",
      " [ 6  7  8]\n",
      " [ 9 10 11]]\n"
     ]
    }
   ],
   "source": [
    "a = np.arange(12).reshape((4,3))\n",
    "print(a)"
   ]
  },
  {
   "cell_type": "code",
   "execution_count": 3,
   "id": "1ffefa1b",
   "metadata": {
    "slideshow": {
     "slide_type": "fragment"
    }
   },
   "outputs": [],
   "source": [
    "# to get a single element you would do...\n",
    "\n",
    "# to get a *slice* of the array you could do...\n"
   ]
  },
  {
   "cell_type": "markdown",
   "id": "0564bc33",
   "metadata": {
    "slideshow": {
     "slide_type": "fragment"
    }
   },
   "source": [
    "There is another way of indexing: when you pass multiple lists. \n",
    "They are interpreted as **coordinates to look up**. This is *fancy-indexing*."
   ]
  },
  {
   "cell_type": "code",
   "execution_count": 4,
   "id": "5ec6d906",
   "metadata": {
    "slideshow": {
     "slide_type": "fragment"
    }
   },
   "outputs": [
    {
     "data": {
      "text/plain": [
       "array([1, 5])"
      ]
     },
     "execution_count": 4,
     "metadata": {},
     "output_type": "execute_result"
    }
   ],
   "source": [
    "a[[0,1],[1,2]]"
   ]
  },
  {
   "cell_type": "markdown",
   "id": "a9c2b8b6",
   "metadata": {
    "slideshow": {
     "slide_type": "slide"
    }
   },
   "source": [
    "Another example"
   ]
  },
  {
   "cell_type": "code",
   "execution_count": 5,
   "id": "7f355557",
   "metadata": {
    "slideshow": {
     "slide_type": "fragment"
    }
   },
   "outputs": [
    {
     "data": {
      "text/plain": [
       "array([['A', 'B', 'C', 'D', 'E', 'F'],\n",
       "       ['G', 'H', 'I', 'J', 'K', 'L'],\n",
       "       ['M', 'N', 'O', 'P', 'Q', 'R'],\n",
       "       ['S', 'T', 'U', 'V', 'W', 'X'],\n",
       "       ['Y', 'Z', '1', '2', '3', '4']], dtype='<U1')"
      ]
     },
     "execution_count": 5,
     "metadata": {},
     "output_type": "execute_result"
    }
   ],
   "source": [
    "a = np.array(list(\"ABCDEFGHIJKLMNOPQRSTUVWXYZ1234\")).reshape(5,6)\n",
    "a"
   ]
  },
  {
   "cell_type": "code",
   "execution_count": 6,
   "id": "2b6923b5",
   "metadata": {
    "slideshow": {
     "slide_type": "fragment"
    }
   },
   "outputs": [
    {
     "name": "stdout",
     "output_type": "stream",
     "text": [
      "['O' 'M' 'G']\n"
     ]
    }
   ],
   "source": [
    "print (a[[2, 2, 1] ,[2 ,0 ,0]])"
   ]
  },
  {
   "cell_type": "markdown",
   "id": "aab75aa4",
   "metadata": {
    "slideshow": {
     "slide_type": "slide"
    }
   },
   "source": [
    "<div>\n",
    "<img src=\"imgs/fancy_indexing_lookup.png\" width=\"800\" align='center'/>\n",
    "</div>"
   ]
  },
  {
   "cell_type": "code",
   "execution_count": 8,
   "id": "97ba24e3",
   "metadata": {
    "slideshow": {
     "slide_type": "fragment"
    }
   },
   "outputs": [
    {
     "name": "stdout",
     "output_type": "stream",
     "text": [
      "[[2 2 1]\n",
      " [3 2 3]]\n",
      "\n",
      "[[2 0 0]\n",
      " [4 2 4]]\n",
      "\n",
      "[['O' 'M' 'G']\n",
      " ['W' 'O' 'W']]\n"
     ]
    }
   ],
   "source": [
    "rows = np.array([[2, 2, 1], [3, 2, 3]])\n",
    "cols = np.array([[2, 0, 0], [4, 2, 4]])\n",
    "print(rows)\n",
    "print()\n",
    "print(cols)\n",
    "print()\n",
    "print(a[rows, cols])"
   ]
  },
  {
   "cell_type": "markdown",
   "id": "cbdfe89e",
   "metadata": {
    "slideshow": {
     "slide_type": "slide"
    }
   },
   "source": [
    "### You can also combine fancy indexing with regular indexing or slicing"
   ]
  },
  {
   "cell_type": "code",
   "execution_count": 9,
   "id": "7e4b2f63",
   "metadata": {},
   "outputs": [
    {
     "name": "stdout",
     "output_type": "stream",
     "text": [
      "[['A' 'B' 'C' 'D' 'E' 'F']\n",
      " ['G' 'H' 'I' 'J' 'K' 'L']\n",
      " ['M' 'N' 'O' 'P' 'Q' 'R']\n",
      " ['S' 'T' 'U' 'V' 'W' 'X']\n",
      " ['Y' 'Z' '1' '2' '3' '4']]\n",
      "\n",
      "['C' 'A' 'B']\n",
      "\n",
      "[['F' 'A']\n",
      " ['L' 'G']\n",
      " ['R' 'M']]\n"
     ]
    }
   ],
   "source": [
    "print(a)\n",
    "print()\n",
    "print(a[0, [2, 0, 1]])\n",
    "print()\n",
    "print(a[0:3, [5, 0]])"
   ]
  },
  {
   "cell_type": "markdown",
   "id": "e68db63a",
   "metadata": {
    "slideshow": {
     "slide_type": "slide"
    }
   },
   "source": [
    "### Fancy indexing also works with boolean arrays\n",
    "\n",
    "In this way you can 'mask' the array, selecting only a subset for which a condition is true."
   ]
  },
  {
   "cell_type": "code",
   "execution_count": 10,
   "id": "813a239e",
   "metadata": {
    "slideshow": {
     "slide_type": "fragment"
    }
   },
   "outputs": [
    {
     "name": "stdout",
     "output_type": "stream",
     "text": [
      "[[ 0  1  2]\n",
      " [ 3  4  5]\n",
      " [ 6  7  8]\n",
      " [ 9 10 11]]\n"
     ]
    }
   ],
   "source": [
    "a = np.arange(12).reshape(4,3)\n",
    "print(a)"
   ]
  },
  {
   "cell_type": "code",
   "execution_count": 11,
   "id": "090ed903",
   "metadata": {
    "slideshow": {
     "slide_type": "fragment"
    }
   },
   "outputs": [
    {
     "name": "stdout",
     "output_type": "stream",
     "text": [
      "[[False False False]\n",
      " [False False  True]\n",
      " [ True  True  True]\n",
      " [ True  True  True]]\n",
      "\n",
      "bool\n"
     ]
    }
   ],
   "source": [
    "i = a>=5\n",
    "print(i)\n",
    "print()\n",
    "print(i.dtype)"
   ]
  },
  {
   "cell_type": "code",
   "execution_count": 12,
   "id": "e707ab58",
   "metadata": {
    "slideshow": {
     "slide_type": "fragment"
    }
   },
   "outputs": [
    {
     "data": {
      "text/plain": [
       "array([ 5,  6,  7,  8,  9, 10, 11])"
      ]
     },
     "execution_count": 12,
     "metadata": {},
     "output_type": "execute_result"
    }
   ],
   "source": [
    "a[i]"
   ]
  },
  {
   "cell_type": "markdown",
   "id": "67ad29a5",
   "metadata": {
    "slideshow": {
     "slide_type": "slide"
    }
   },
   "source": [
    "### Alternative: ```where``` argument of universal functions (mean, sum, etc...) \n",
    "\n",
    "They will operate only on the array where the array is ```True```"
   ]
  },
  {
   "cell_type": "code",
   "execution_count": 13,
   "id": "1a5c5c6e",
   "metadata": {
    "slideshow": {
     "slide_type": "fragment"
    }
   },
   "outputs": [
    {
     "name": "stdout",
     "output_type": "stream",
     "text": [
      "56\n"
     ]
    }
   ],
   "source": [
    "s1 = np.sum(a[i])\n",
    "print(s1)"
   ]
  },
  {
   "cell_type": "code",
   "execution_count": 14,
   "id": "dc011086",
   "metadata": {
    "slideshow": {
     "slide_type": "fragment"
    }
   },
   "outputs": [
    {
     "name": "stdout",
     "output_type": "stream",
     "text": [
      "56\n"
     ]
    }
   ],
   "source": [
    "s2 = np.sum(a, where=i)\n",
    "print(s2)"
   ]
  },
  {
   "cell_type": "markdown",
   "id": "cea68b31",
   "metadata": {
    "slideshow": {
     "slide_type": "slide"
    }
   },
   "source": [
    "# 1.2 Views and Copies: an important distinction!\n",
    "\n",
    "\n",
    "**View**\n",
    "\n",
    "- accessing the array without changing the databuffer \n",
    "- **regular indexing** and **slicing** give views\n",
    "- *in-place* operations can be done in views\n",
    "\n",
    "\n",
    "**Copy**\n",
    "- when a new array is created by duplicating the data buffer as well as the array metadata\n",
    "- **fancy indexing** give always copies\n",
    "- a copy can be forced by method .copy()\n",
    "\n",
    "How to know? with ```base```"
   ]
  },
  {
   "cell_type": "code",
   "execution_count": 15,
   "id": "c3150638",
   "metadata": {
    "lines_to_next_cell": 2,
    "slideshow": {
     "slide_type": "slide"
    }
   },
   "outputs": [
    {
     "name": "stdout",
     "output_type": "stream",
     "text": [
      "[1 2 3 4 5]\n",
      "[3 4 5]\n",
      "[1 2 3 4 5]\n"
     ]
    }
   ],
   "source": [
    "a = np.arange(1,6)\n",
    "print(a)\n",
    "\n",
    "v = a[2:5] # v is a view\n",
    "print(v)\n",
    "\n",
    "print(v.base)  # returns the 'base' array"
   ]
  },
  {
   "cell_type": "code",
   "execution_count": 16,
   "id": "61e9ac81",
   "metadata": {
    "slideshow": {
     "slide_type": "fragment"
    }
   },
   "outputs": [
    {
     "name": "stdout",
     "output_type": "stream",
     "text": [
      "[1 2 3 4 5]\n"
     ]
    },
    {
     "data": {
      "text/plain": [
       "True"
      ]
     },
     "execution_count": 16,
     "metadata": {},
     "output_type": "execute_result"
    }
   ],
   "source": [
    "a = np.arange(1,6)\n",
    "print(a)\n",
    "\n",
    "w = a.copy()\n",
    "\n",
    "w.base  # returns None\n",
    "w.base==None"
   ]
  },
  {
   "cell_type": "markdown",
   "id": "6446c6a7",
   "metadata": {
    "slideshow": {
     "slide_type": "slide"
    }
   },
   "source": [
    "As a copy is a different array in memory, modifiying it will *not* change the base array"
   ]
  },
  {
   "cell_type": "code",
   "execution_count": 17,
   "id": "728a2740",
   "metadata": {
    "slideshow": {
     "slide_type": "fragment"
    }
   },
   "outputs": [
    {
     "name": "stdout",
     "output_type": "stream",
     "text": [
      "a: [1 2 3 4 5]\n",
      "v: [2 3]\n"
     ]
    }
   ],
   "source": [
    "a = np.arange(1, 6)\n",
    "print('a:', a)\n",
    "\n",
    "v = a[[1,2]]\n",
    "\n",
    "print('v:', v)"
   ]
  },
  {
   "cell_type": "code",
   "execution_count": 18,
   "id": "2c44117d",
   "metadata": {
    "slideshow": {
     "slide_type": "fragment"
    }
   },
   "outputs": [
    {
     "name": "stdout",
     "output_type": "stream",
     "text": [
      "v: [99  3]\n",
      "a: [1 2 3 4 5]\n"
     ]
    }
   ],
   "source": [
    "v[0] = 99\n",
    "\n",
    "print('v:', v)\n",
    "print('a:', a)"
   ]
  },
  {
   "cell_type": "markdown",
   "id": "adaf1f45",
   "metadata": {
    "slideshow": {
     "slide_type": "fragment"
    }
   },
   "source": [
    "The same operation with a *view*, however, will carry the change "
   ]
  },
  {
   "cell_type": "code",
   "execution_count": 19,
   "id": "5f35b190",
   "metadata": {
    "slideshow": {
     "slide_type": "fragment"
    }
   },
   "outputs": [
    {
     "name": "stdout",
     "output_type": "stream",
     "text": [
      "c: [99  3]\n",
      "a: [ 1 99  3  4  5]\n"
     ]
    }
   ],
   "source": [
    "c = a[1:3]\n",
    "c[0] = 99\n",
    "\n",
    "print('c:', c)\n",
    "print('a:', a)"
   ]
  },
  {
   "cell_type": "markdown",
   "id": "94fc8724",
   "metadata": {
    "slideshow": {
     "slide_type": "fragment"
    }
   },
   "source": [
    "**Take-away**: you **do** need to know if you are using a **view** or a **copy**, particularly when you are operating on the array **in-place**"
   ]
  },
  {
   "cell_type": "markdown",
   "id": "511ce80d",
   "metadata": {
    "slideshow": {
     "slide_type": "slide"
    }
   },
   "source": [
    "# 1.3 Sorting\n",
    "\n",
    "Sorting is implemented in numpy by the function np.sort. Default is the *quicksort* algorith, a very efficient one."
   ]
  },
  {
   "cell_type": "code",
   "execution_count": 20,
   "id": "dc546fb1",
   "metadata": {
    "slideshow": {
     "slide_type": "fragment"
    }
   },
   "outputs": [
    {
     "name": "stdout",
     "output_type": "stream",
     "text": [
      "[1 5 7 4 6]\n",
      "[1 4 5 6 7]\n",
      "[1 4 5 6 7]\n"
     ]
    }
   ],
   "source": [
    "a = np.random.randint(1, 10, 5)\n",
    "print(a)\n",
    "\n",
    "s = np.sort(a)\n",
    "print(s)\n",
    "\n",
    "a.sort()\n",
    "print(a)"
   ]
  },
  {
   "cell_type": "markdown",
   "id": "6e3523d9",
   "metadata": {
    "slideshow": {
     "slide_type": "fragment"
    }
   },
   "source": [
    "```np.sort()``` returns a sorted array\n",
    "\n",
    "```.sort()``` makes the sorting *in-place*.\n",
    "\n",
    "if you need to sort descending, simply use ```.flip()``` after sorting. "
   ]
  },
  {
   "cell_type": "code",
   "execution_count": 21,
   "id": "e1c32db2",
   "metadata": {},
   "outputs": [
    {
     "name": "stdout",
     "output_type": "stream",
     "text": [
      "[1 9 5 3 6]\n",
      "[9 6 5 3 1]\n"
     ]
    }
   ],
   "source": [
    "a = np.random.randint(1, 10, 5)\n",
    "print(a)\n",
    "\n",
    "r = np.sort(a)\n",
    "print(np.flip(r))\n"
   ]
  },
  {
   "cell_type": "markdown",
   "id": "f97c4059",
   "metadata": {
    "slideshow": {
     "slide_type": "slide"
    }
   },
   "source": [
    "Similarly to ```sort```, ```argsort``` gives you the *indices* that will sort the array"
   ]
  },
  {
   "cell_type": "code",
   "execution_count": 22,
   "id": "1359ad44",
   "metadata": {
    "slideshow": {
     "slide_type": "fragment"
    }
   },
   "outputs": [
    {
     "name": "stdout",
     "output_type": "stream",
     "text": [
      "a: [14 14  6  1  8 12  9  5 14  9]\n",
      "\n",
      "i: [3 7 2 4 6 9 5 0 1 8]\n",
      "\n",
      "[ 1  5  6  8  9  9 12 14 14 14]\n"
     ]
    }
   ],
   "source": [
    "a = np.random.randint(1, 15, 10)\n",
    "print('a:', a)\n",
    "print()\n",
    "\n",
    "i = np.argsort(a)\n",
    "print('i:', i)\n",
    "print()\n",
    "\n",
    "print(a[i]) # with fancy indexing"
   ]
  },
  {
   "cell_type": "markdown",
   "id": "3d30d242",
   "metadata": {
    "slideshow": {
     "slide_type": "slide"
    }
   },
   "source": [
    "```axis``` argument allows you to sort an array according to one dimension"
   ]
  },
  {
   "cell_type": "code",
   "execution_count": 23,
   "id": "9fb0e9d2",
   "metadata": {
    "slideshow": {
     "slide_type": "fragment"
    }
   },
   "outputs": [
    {
     "data": {
      "text/plain": [
       "array([[ 4, 14,  4],\n",
       "       [ 2,  8,  5],\n",
       "       [ 3,  4,  6]])"
      ]
     },
     "execution_count": 23,
     "metadata": {},
     "output_type": "execute_result"
    }
   ],
   "source": [
    "a = np.random.randint(1, 15, (3,3))\n",
    "a"
   ]
  },
  {
   "cell_type": "code",
   "execution_count": 24,
   "id": "f7d19696",
   "metadata": {},
   "outputs": [
    {
     "data": {
      "text/plain": [
       "array([[ 4,  4, 14],\n",
       "       [ 2,  5,  8],\n",
       "       [ 3,  4,  6]])"
      ]
     },
     "execution_count": 24,
     "metadata": {},
     "output_type": "execute_result"
    }
   ],
   "source": [
    "np.sort(a)"
   ]
  },
  {
   "cell_type": "code",
   "execution_count": 25,
   "id": "90b354b6",
   "metadata": {
    "slideshow": {
     "slide_type": "fragment"
    }
   },
   "outputs": [
    {
     "data": {
      "text/plain": [
       "array([[ 2,  4,  4],\n",
       "       [ 3,  8,  5],\n",
       "       [ 4, 14,  6]])"
      ]
     },
     "execution_count": 25,
     "metadata": {},
     "output_type": "execute_result"
    }
   ],
   "source": [
    "np.sort(a, axis=0)"
   ]
  },
  {
   "cell_type": "code",
   "execution_count": 26,
   "id": "3f108a7b",
   "metadata": {
    "slideshow": {
     "slide_type": "fragment"
    }
   },
   "outputs": [
    {
     "data": {
      "text/plain": [
       "array([[ 4,  4, 14],\n",
       "       [ 2,  5,  8],\n",
       "       [ 3,  4,  6]])"
      ]
     },
     "execution_count": 26,
     "metadata": {},
     "output_type": "execute_result"
    }
   ],
   "source": [
    "np.sort(a, axis=1)"
   ]
  },
  {
   "cell_type": "markdown",
   "id": "d560310a",
   "metadata": {
    "slideshow": {
     "slide_type": "fragment"
    }
   },
   "source": [
    "Notice that by sorting this way the rows or columns are treated independently, so their relatioship is lost!"
   ]
  },
  {
   "cell_type": "markdown",
   "id": "e7bccdc1",
   "metadata": {
    "slideshow": {
     "slide_type": "slide"
    }
   },
   "source": [
    "# Exercises on indexing, views/copies and sorting\n"
   ]
  },
  {
   "cell_type": "markdown",
   "id": "694ed250",
   "metadata": {
    "slideshow": {
     "slide_type": "slide"
    }
   },
   "source": [
    "### Exercise 1: indexing, dimensionality of the output\n",
    "\n",
    "Look at the following code examples and before running it, try to answer for each case:\n",
    "- what is the dimensionality of v?\n",
    "- is v a view or a copy?"
   ]
  },
  {
   "cell_type": "code",
   "execution_count": 27,
   "id": "02319316",
   "metadata": {
    "slideshow": {
     "slide_type": "fragment"
    }
   },
   "outputs": [
    {
     "data": {
      "text/plain": [
       "(5, 5, 5)"
      ]
     },
     "execution_count": 27,
     "metadata": {},
     "output_type": "execute_result"
    }
   ],
   "source": [
    "a=np.ones((5,5,5))\n",
    "a.shape"
   ]
  },
  {
   "cell_type": "code",
   "execution_count": 28,
   "id": "c3336d1e",
   "metadata": {
    "slideshow": {
     "slide_type": "fragment"
    }
   },
   "outputs": [
    {
     "name": "stdout",
     "output_type": "stream",
     "text": [
      "view\n"
     ]
    },
    {
     "data": {
      "text/plain": [
       "(3, 3)"
      ]
     },
     "execution_count": 28,
     "metadata": {},
     "output_type": "execute_result"
    }
   ],
   "source": [
    "# Ex. 1.1\n",
    "v = a[1, ::2, ::2]\n",
    "\n",
    "# answers:\n",
    "print('copy' if v.base is None else 'view')\n",
    "v.shape"
   ]
  },
  {
   "cell_type": "code",
   "execution_count": 29,
   "id": "1c8449f8",
   "metadata": {
    "slideshow": {
     "slide_type": "fragment"
    }
   },
   "outputs": [
    {
     "name": "stdout",
     "output_type": "stream",
     "text": [
      "view\n"
     ]
    },
    {
     "data": {
      "text/plain": [
       "(5, 5)"
      ]
     },
     "execution_count": 29,
     "metadata": {},
     "output_type": "execute_result"
    }
   ],
   "source": [
    "# Ex. 1.2\n",
    "v = a[2,:]\n",
    "\n",
    "# answers:\n",
    "print('copy' if v.base is None else 'view')\n",
    "v.shape"
   ]
  },
  {
   "cell_type": "code",
   "execution_count": 30,
   "id": "b635ea0e",
   "metadata": {
    "slideshow": {
     "slide_type": "fragment"
    }
   },
   "outputs": [
    {
     "name": "stdout",
     "output_type": "stream",
     "text": [
      "copy\n"
     ]
    },
    {
     "data": {
      "text/plain": [
       "(2, 5, 5)"
      ]
     },
     "execution_count": 30,
     "metadata": {},
     "output_type": "execute_result"
    }
   ],
   "source": [
    "# Ex. 1.3\n",
    "v = a[[0, 1],:]\n",
    "\n",
    "# answers:\n",
    "print('copy' if v.base is None else 'view')\n",
    "v.shape"
   ]
  },
  {
   "cell_type": "code",
   "execution_count": 31,
   "id": "1371c65a",
   "metadata": {
    "slideshow": {
     "slide_type": "fragment"
    }
   },
   "outputs": [
    {
     "name": "stdout",
     "output_type": "stream",
     "text": [
      "copy\n"
     ]
    },
    {
     "data": {
      "text/plain": [
       "(2, 5)"
      ]
     },
     "execution_count": 31,
     "metadata": {},
     "output_type": "execute_result"
    }
   ],
   "source": [
    "# Ex. 1.4\n",
    "v = a[[2,3], [2,3]]\n",
    "\n",
    "# answers:\n",
    "print('copy' if v.base is None else 'view')\n",
    "v.shape"
   ]
  },
  {
   "cell_type": "markdown",
   "id": "3fa04a21",
   "metadata": {
    "slideshow": {
     "slide_type": "slide"
    }
   },
   "source": [
    "### Exercise 2 - visualize indexing\n",
    "\n",
    "Recreate the following plots using the following procedure. \n",
    "- Make an array containing only zeros. That will be your 'canvas'. \n",
    "- Then change the values of some of the elements to 1. \n",
    "- Then plot using `plt.matshow()`.\n",
    "\n",
    "![Alt text](imgs/patterns.png)"
   ]
  },
  {
   "cell_type": "code",
   "execution_count": 34,
   "id": "3342baf2",
   "metadata": {
    "slideshow": {
     "slide_type": "skip"
    }
   },
   "outputs": [],
   "source": [
    "# Make sure that plots are displayed in the notebook\n",
    "%matplotlib inline\n",
    "from matplotlib import pyplot as plt # plotting library"
   ]
  },
  {
   "cell_type": "code",
   "execution_count": 35,
   "id": "3337eeca",
   "metadata": {
    "slideshow": {
     "slide_type": "fragment"
    }
   },
   "outputs": [
    {
     "data": {
      "text/plain": [
       "<matplotlib.image.AxesImage at 0x7fab6b50f4f0>"
      ]
     },
     "execution_count": 35,
     "metadata": {},
     "output_type": "execute_result"
    },
    {
     "data": {
      "image/png": "[encoded data removed]",
      "text/plain": [
       "<Figure size 288x288 with 1 Axes>"
      ]
     },
     "metadata": {
      "needs_background": "light"
     },
     "output_type": "display_data"
    }
   ],
   "source": [
    "# solution cell\n",
    "# example, to be modified...\n",
    "#e1 = np.zeros((11,11))\n",
    "#plt.matshow(e1)\n",
    "\n",
    "e1 = np.zeros((11,11))\n",
    "e1[1,::2] = 1\n",
    "plt.matshow(e1)"
   ]
  },
  {
   "cell_type": "code",
   "execution_count": 36,
   "id": "2173d83b",
   "metadata": {
    "slideshow": {
     "slide_type": "fragment"
    }
   },
   "outputs": [
    {
     "data": {
      "text/plain": [
       "<matplotlib.image.AxesImage at 0x7fab6b484220>"
      ]
     },
     "execution_count": 36,
     "metadata": {},
     "output_type": "execute_result"
    },
    {
     "data": {
      "image/png": "[encoded data removed]",
      "text/plain": [
       "<Figure size 432x288 with 1 Axes>"
      ]
     },
     "metadata": {
      "needs_background": "light"
     },
     "output_type": "display_data"
    }
   ],
   "source": [
    "# solution cell\n",
    "e2 = np.zeros((11,11))\n",
    "e2[:,::2] = 1\n",
    "plt.imshow(e2)"
   ]
  },
  {
   "cell_type": "code",
   "execution_count": 37,
   "id": "9f3209bb",
   "metadata": {
    "slideshow": {
     "slide_type": "fragment"
    }
   },
   "outputs": [
    {
     "data": {
      "text/plain": [
       "<matplotlib.image.AxesImage at 0x7fab6b3e92e0>"
      ]
     },
     "execution_count": 37,
     "metadata": {},
     "output_type": "execute_result"
    },
    {
     "data": {
      "image/png": "[encoded data removed]",
      "text/plain": [
       "<Figure size 432x288 with 1 Axes>"
      ]
     },
     "metadata": {
      "needs_background": "light"
     },
     "output_type": "display_data"
    }
   ],
   "source": [
    "# solution cell\n",
    "e3 = np.zeros((11,11))\n",
    "e3[::2,::2] = 1\n",
    "plt.imshow(e3)"
   ]
  },
  {
   "cell_type": "code",
   "execution_count": 38,
   "id": "95332a5f",
   "metadata": {
    "slideshow": {
     "slide_type": "fragment"
    }
   },
   "outputs": [
    {
     "data": {
      "text/plain": [
       "<matplotlib.image.AxesImage at 0x7fab6b3c8640>"
      ]
     },
     "execution_count": 38,
     "metadata": {},
     "output_type": "execute_result"
    },
    {
     "data": {
      "image/png": "[encoded data removed]",
      "text/plain": [
       "<Figure size 432x288 with 1 Axes>"
      ]
     },
     "metadata": {
      "needs_background": "light"
     },
     "output_type": "display_data"
    }
   ],
   "source": [
    "# solution cell\n",
    "e4 = np.zeros((11,11))\n",
    "e4[::2,1::2] = 1\n",
    "e4[1::2,::2] = 1\n",
    "plt.imshow(e4)"
   ]
  },
  {
   "cell_type": "code",
   "execution_count": 39,
   "id": "4c979346",
   "metadata": {
    "slideshow": {
     "slide_type": "fragment"
    }
   },
   "outputs": [
    {
     "data": {
      "text/plain": [
       "<matplotlib.image.AxesImage at 0x7fab6b32b6d0>"
      ]
     },
     "execution_count": 39,
     "metadata": {},
     "output_type": "execute_result"
    },
    {
     "data": {
      "image/png": "[encoded data removed]",
      "text/plain": [
       "<Figure size 432x288 with 1 Axes>"
      ]
     },
     "metadata": {
      "needs_background": "light"
     },
     "output_type": "display_data"
    }
   ],
   "source": [
    "# solution cell\n",
    "# option 1\n",
    "e5_y, e5_x = np.mgrid[0:11,0:11]\n",
    "e5 = np.zeros((11,11))\n",
    "e5[e5_x==e5_y] = 1\n",
    "plt.imshow(e5)"
   ]
  },
  {
   "cell_type": "code",
   "execution_count": 40,
   "id": "f569d7bb",
   "metadata": {
    "slideshow": {
     "slide_type": "fragment"
    }
   },
   "outputs": [
    {
     "data": {
      "text/plain": [
       "<matplotlib.image.AxesImage at 0x7fab6b3114f0>"
      ]
     },
     "execution_count": 40,
     "metadata": {},
     "output_type": "execute_result"
    },
    {
     "data": {
      "image/png": "[encoded data removed]",
      "text/plain": [
       "<Figure size 432x288 with 1 Axes>"
      ]
     },
     "metadata": {
      "needs_background": "light"
     },
     "output_type": "display_data"
    }
   ],
   "source": [
    "# solution cell\n",
    "# option 2\n",
    "e5 = np.zeros((11,11))\n",
    "diag = np.arange(11)\n",
    "e5[diag, diag] = 1\n",
    "plt.imshow(e5)"
   ]
  },
  {
   "cell_type": "markdown",
   "id": "7b7ffd90",
   "metadata": {
    "slideshow": {
     "slide_type": "slide"
    }
   },
   "source": [
    "### Exercise 3: sorting on a view or on a copy?\n",
    "\n",
    "You start with the following 3x3 matrix ```m```"
   ]
  },
  {
   "cell_type": "code",
   "execution_count": 41,
   "id": "0826cc05",
   "metadata": {
    "slideshow": {
     "slide_type": "fragment"
    }
   },
   "outputs": [
    {
     "data": {
      "text/plain": [
       "array([[6, 2, 3],\n",
       "       [1, 7, 2],\n",
       "       [7, 6, 5]])"
      ]
     },
     "execution_count": 41,
     "metadata": {},
     "output_type": "execute_result"
    }
   ],
   "source": [
    "m = np.array([[6,2,3], [1,7,2], [7,6,5]])\n",
    "m "
   ]
  },
  {
   "cell_type": "markdown",
   "id": "41ba9574",
   "metadata": {
    "slideshow": {
     "slide_type": "fragment"
    }
   },
   "source": [
    "3.1. Sort only the last row, ascending. Do this *in-place*."
   ]
  },
  {
   "cell_type": "code",
   "execution_count": 42,
   "id": "9072d7b7",
   "metadata": {
    "slideshow": {
     "slide_type": "fragment"
    }
   },
   "outputs": [
    {
     "data": {
      "text/plain": [
       "array([[6, 2, 3],\n",
       "       [1, 7, 2],\n",
       "       [5, 6, 7]])"
      ]
     },
     "execution_count": 42,
     "metadata": {},
     "output_type": "execute_result"
    }
   ],
   "source": [
    "m[-1,:].sort()\n",
    "m"
   ]
  },
  {
   "cell_type": "markdown",
   "id": "29d52189",
   "metadata": {
    "slideshow": {
     "slide_type": "slide"
    }
   },
   "source": [
    "Now sort the first and second columns (ascending). Try two ways:\n",
    "- using fancy indexing\n",
    "- *in place*, using regular indices or slicing\n",
    "\n",
    "is there a difference? why?"
   ]
  },
  {
   "cell_type": "code",
   "execution_count": 43,
   "id": "8c4670da",
   "metadata": {
    "slideshow": {
     "slide_type": "fragment"
    }
   },
   "outputs": [
    {
     "data": {
      "text/plain": [
       "array([[6, 2, 3],\n",
       "       [1, 7, 2],\n",
       "       [5, 6, 7]])"
      ]
     },
     "execution_count": 43,
     "metadata": {},
     "output_type": "execute_result"
    }
   ],
   "source": [
    "m[[0,1],:].sort()\n",
    "m  \n",
    "# it doesn't sort in place as we're using fancy-indexing, so sorting is being applied into a copy."
   ]
  },
  {
   "cell_type": "code",
   "execution_count": 44,
   "id": "e6e05638",
   "metadata": {
    "slideshow": {
     "slide_type": "fragment"
    }
   },
   "outputs": [
    {
     "data": {
      "text/plain": [
       "array([[2, 3, 6],\n",
       "       [1, 2, 7],\n",
       "       [5, 6, 7]])"
      ]
     },
     "execution_count": 44,
     "metadata": {},
     "output_type": "execute_result"
    }
   ],
   "source": [
    "m[0:2,:].sort()\n",
    "m\n",
    "# slicing however, does sort the rows in place."
   ]
  },
  {
   "cell_type": "markdown",
   "id": "d2727cb3",
   "metadata": {
    "slideshow": {
     "slide_type": "slide"
    }
   },
   "source": [
    "### (Optional) Exercise 4: create a circular mask \n",
    "\n",
    "Create a 100\\*100 grid and create a circular mask centered in the middle, that is, a boolean array with values```True``` only in the middle of radius ```r```. \n",
    "\n",
    "In an x–y Cartesian coordinate system, the circle with centre coordinates (a, b) and radius r is the set of all points (x, y) such that `(x-a)**2 + (y-b)**2 = r**2`"
   ]
  },
  {
   "cell_type": "code",
   "execution_count": 45,
   "id": "69f15eca",
   "metadata": {
    "slideshow": {
     "slide_type": "fragment"
    }
   },
   "outputs": [
    {
     "data": {
      "text/plain": [
       "<matplotlib.image.AxesImage at 0x7fab6b262a60>"
      ]
     },
     "execution_count": 45,
     "metadata": {},
     "output_type": "execute_result"
    },
    {
     "data": {
      "image/png": "[encoded data removed]",
      "text/plain": [
       "<Figure size 432x288 with 1 Axes>"
      ]
     },
     "metadata": {
      "needs_background": "light"
     },
     "output_type": "display_data"
    }
   ],
   "source": [
    "# solution cell\n",
    "center = (50, 50)\n",
    "radius = 20\n",
    "\n",
    "y, x = np.mgrid[1:100, 1:100]\n",
    "x -= 50\n",
    "y -= 50\n",
    "\n",
    "circle = (x**2)+(y**2)\n",
    "\n",
    "plt.imshow(circle<=radius**2)"
   ]
  },
  {
   "cell_type": "markdown",
   "id": "6308f516",
   "metadata": {},
   "source": [
    "---"
   ]
  },
  {
   "cell_type": "markdown",
   "id": "b70ec462",
   "metadata": {
    "slideshow": {
     "slide_type": "slide"
    }
   },
   "source": [
    "# (optional) Advanced topic: strides\n",
    "\n",
    "The reason why some indexing gives *views* and other give *copies* lies in how numpy arranges the data in memory.\n",
    "\n",
    "When you create an array, numpy allocates certain memory that depends on the type you choose\n"
   ]
  },
  {
   "cell_type": "code",
   "execution_count": 46,
   "id": "a00cfd64",
   "metadata": {
    "slideshow": {
     "slide_type": "fragment"
    }
   },
   "outputs": [
    {
     "name": "stdout",
     "output_type": "stream",
     "text": [
      "[[0 1 2]\n",
      " [3 4 5]\n",
      " [6 7 8]]\n"
     ]
    },
    {
     "data": {
      "text/plain": [
       "dtype('int64')"
      ]
     },
     "execution_count": 46,
     "metadata": {},
     "output_type": "execute_result"
    }
   ],
   "source": [
    "a = np.arange(9).reshape(3,3)\n",
    "print(a)\n",
    "a.dtype"
   ]
  },
  {
   "cell_type": "code",
   "execution_count": 47,
   "id": "1d1fc164",
   "metadata": {
    "slideshow": {
     "slide_type": "fragment"
    }
   },
   "outputs": [
    {
     "data": {
      "text/plain": [
       "8"
      ]
     },
     "execution_count": 47,
     "metadata": {},
     "output_type": "execute_result"
    }
   ],
   "source": [
    "a.itemsize"
   ]
  },
  {
   "cell_type": "markdown",
   "id": "38970c87",
   "metadata": {
    "slideshow": {
     "slide_type": "slide"
    }
   },
   "source": [
    "In this example the array has 8 bytes allocated per item.\n",
    "\n",
    "Memory is *linear*, that means, the 2-D array will look in memory something like this (blue boxes) \n",
    "\n",
    "![memory.png](imgs/memory.png)\n",
    "\n",
    "However, the user 'sees' the array in 2D (green boxes).\n",
    "\n",
    "How does numpy accomplishes this? By defining ```strides```.\n"
   ]
  },
  {
   "cell_type": "code",
   "execution_count": 48,
   "id": "c49b8aad",
   "metadata": {
    "slideshow": {
     "slide_type": "fragment"
    }
   },
   "outputs": [
    {
     "data": {
      "text/plain": [
       "(24, 8)"
      ]
     },
     "execution_count": 48,
     "metadata": {},
     "output_type": "execute_result"
    }
   ],
   "source": [
    "a.strides"
   ]
  },
  {
   "cell_type": "markdown",
   "id": "aacdf880",
   "metadata": {
    "slideshow": {
     "slide_type": "slide"
    }
   },
   "source": [
    "Strides tell you by how many bytes you should move in memory when moving one step in that dimension. This is better explain with the following visualization\n",
    "\n",
    "![strides.png](imgs/strides.png)\n",
    "\n",
    "In the example, to go from the first item in the first row to the first item in the second row, you need to move 24 bytes. To move from the column-wise, you just need to move 8 bytes."
   ]
  },
  {
   "cell_type": "markdown",
   "id": "29b78429",
   "metadata": {
    "slideshow": {
     "slide_type": "slide"
    }
   },
   "source": [
    "**Views** are created when you just use other strides to read your data. Slicing and regular indexing allows that, as you know how many byte steps you need to take to get the data.\n",
    "\n",
    "**Fancy indexing** does not allow that, because the data you are asking **cannot** be obtained by just changing the strides. Thus, numpy need to make a **copy** of it in memory."
   ]
  },
  {
   "cell_type": "markdown",
   "id": "d0b5e9e0",
   "metadata": {
    "slideshow": {
     "slide_type": "fragment"
    }
   },
   "source": [
    "Now, you can change the strides of an array at will."
   ]
  },
  {
   "cell_type": "code",
   "execution_count": 49,
   "id": "493abaf8",
   "metadata": {
    "slideshow": {
     "slide_type": "fragment"
    }
   },
   "outputs": [],
   "source": [
    "a.strides=(8,24)"
   ]
  },
  {
   "cell_type": "code",
   "execution_count": 50,
   "id": "823061ea",
   "metadata": {
    "slideshow": {
     "slide_type": "fragment"
    }
   },
   "outputs": [
    {
     "data": {
      "text/plain": [
       "array([[0, 3, 6],\n",
       "       [1, 4, 7],\n",
       "       [2, 5, 8]])"
      ]
     },
     "execution_count": 50,
     "metadata": {},
     "output_type": "execute_result"
    }
   ],
   "source": [
    "a"
   ]
  },
  {
   "cell_type": "markdown",
   "id": "b00d0504",
   "metadata": {
    "slideshow": {
     "slide_type": "fragment"
    }
   },
   "source": [
    "By swapping the stride numbers we actually transposed the matrix."
   ]
  },
  {
   "cell_type": "markdown",
   "id": "ce00fd50",
   "metadata": {
    "slideshow": {
     "slide_type": "slide"
    }
   },
   "source": [
    "We could do *moving windows to the data* by changing to"
   ]
  },
  {
   "cell_type": "code",
   "execution_count": 51,
   "id": "05f90a73",
   "metadata": {
    "slideshow": {
     "slide_type": "fragment"
    }
   },
   "outputs": [
    {
     "data": {
      "text/plain": [
       "array([[0, 2, 4],\n",
       "       [1, 3, 5],\n",
       "       [2, 4, 6]])"
      ]
     },
     "execution_count": 51,
     "metadata": {},
     "output_type": "execute_result"
    }
   ],
   "source": [
    "a.strides=(8, 16)\n",
    "a"
   ]
  },
  {
   "cell_type": "markdown",
   "id": "767b60ae",
   "metadata": {
    "slideshow": {
     "slide_type": "fragment"
    }
   },
   "source": [
    " But be careful! Changing the strides to something non-sensical will also **give you non-sense**. And numpy will not complain. "
   ]
  },
  {
   "cell_type": "code",
   "execution_count": 52,
   "id": "c3d70b76",
   "metadata": {
    "slideshow": {
     "slide_type": "fragment"
    }
   },
   "outputs": [],
   "source": [
    "a.strides=(8, 9)"
   ]
  },
  {
   "cell_type": "code",
   "execution_count": 53,
   "id": "bed8d293",
   "metadata": {
    "slideshow": {
     "slide_type": "fragment"
    }
   },
   "outputs": [
    {
     "data": {
      "text/plain": [
       "array([[                 0, 144115188075855872,    844424930131968],\n",
       "       [                 1, 216172782113783808,   1125899906842624],\n",
       "       [                 2, 288230376151711744,   1407374883553280]])"
      ]
     },
     "execution_count": 53,
     "metadata": {},
     "output_type": "execute_result"
    }
   ],
   "source": [
    "a"
   ]
  },
  {
   "cell_type": "markdown",
   "id": "08b9c593",
   "metadata": {
    "slideshow": {
     "slide_type": "slide"
    }
   },
   "source": [
    "# Sources + other resources\n",
    "\n",
    "\n",
    "ASPP Bilbao 2022 - Lisa Schwetlick & Aina Frau-Pascual\n",
    "https://github.com/ASPP/2022-bilbao-advanced-numpy\n",
    "\n",
    "\n",
    "Scipy lecture notes, 2022.1\n",
    "- Basic Numpy: http://scipy-lectures.org/intro/numpy/index.html\n",
    "- Advanced Numpy: http://scipy-lectures.org/advanced/advanced_numpy/index.html\n",
    "\n",
    "Numpy chapter in \"Python Data Science Handbook\"\n",
    "https://jakevdp.github.io/PythonDataScienceHandbook/02.00-introduction-to-numpy.html\n",
    "\n",
    "\n",
    "\n",
    "Further resources on strides: \n",
    "- https://scipy-lectures.org/advanced/advanced_numpy/#indexing-scheme-strides\n",
    "- https://ajcr.net/stride-guide-part-1/\n"
   ]
  },
  {
   "cell_type": "code",
   "execution_count": null,
   "id": "49fab302",
   "metadata": {},
   "outputs": [],
   "source": []
  }
 ],
 "metadata": {
  "celltoolbar": "Slideshow",
  "jupytext": {
   "formats": "ipynb"
  },
  "kernelspec": {
   "display_name": "Python 3 (ipykernel)",
   "language": "python",
   "name": "python3"
  },
  "language_info": {
   "codemirror_mode": {
    "name": "ipython",
    "version": 3
   },
   "file_extension": ".py",
   "mimetype": "text/x-python",
   "name": "python",
   "nbconvert_exporter": "python",
   "pygments_lexer": "ipython3",
   "version": "3.8.13"
  },
  "rise": {
   "scroll": true
  }
 },
 "nbformat": 4,
 "nbformat_minor": 5
}
