{
 "cells": [
  {
   "cell_type": "code",
   "execution_count": 1,
   "id": "7ca9bcce",
   "metadata": {
    "slideshow": {
     "slide_type": "skip"
    }
   },
   "outputs": [],
   "source": [
    "import numpy as np\n",
    "import matplotlib.pyplot as plt"
   ]
  },
  {
   "cell_type": "markdown",
   "id": "b239aa8b",
   "metadata": {
    "slideshow": {
     "slide_type": "slide"
    }
   },
   "source": [
    "# Part 3 - A mix of things"
   ]
  },
  {
   "cell_type": "markdown",
   "id": "df1bfa8d",
   "metadata": {
    "slideshow": {
     "slide_type": "slide"
    }
   },
   "source": [
    "## 3.1 Loading and saving arrays\n",
    "\n",
    "Simple, with ```np.load``` and ```np.save```. File contains only *one* array. "
   ]
  },
  {
   "cell_type": "code",
   "execution_count": 2,
   "id": "89083da1",
   "metadata": {
    "slideshow": {
     "slide_type": "-"
    }
   },
   "outputs": [],
   "source": [
    "a = np.random.randint(1, 10, (100, 100))\n",
    "\n",
    "np.save('random', a)"
   ]
  },
  {
   "cell_type": "code",
   "execution_count": 3,
   "id": "13468213",
   "metadata": {
    "slideshow": {
     "slide_type": "fragment"
    }
   },
   "outputs": [],
   "source": [
    "np.save('random_notpickled', a, allow_pickle=False)"
   ]
  },
  {
   "cell_type": "markdown",
   "id": "26f57c22",
   "metadata": {
    "slideshow": {
     "slide_type": "slide"
    }
   },
   "source": [
    "loading with ```np.load```\n"
   ]
  },
  {
   "cell_type": "code",
   "execution_count": 4,
   "id": "091a7c9d",
   "metadata": {
    "slideshow": {
     "slide_type": "-"
    }
   },
   "outputs": [
    {
     "data": {
      "text/plain": [
       "array([[7, 4, 3, ..., 9, 3, 9],\n",
       "       [7, 5, 5, ..., 6, 6, 1],\n",
       "       [1, 6, 4, ..., 3, 9, 6],\n",
       "       ...,\n",
       "       [1, 6, 7, ..., 5, 4, 9],\n",
       "       [4, 4, 6, ..., 3, 1, 8],\n",
       "       [8, 6, 8, ..., 6, 1, 1]])"
      ]
     },
     "execution_count": 4,
     "metadata": {},
     "output_type": "execute_result"
    }
   ],
   "source": [
    "np.load('data/random.npy')"
   ]
  },
  {
   "cell_type": "markdown",
   "id": "e91298f4",
   "metadata": {
    "slideshow": {
     "slide_type": "slide"
    }
   },
   "source": [
    "For several arrays: ```np.savez``` saves in ```.npz``` format."
   ]
  },
  {
   "cell_type": "code",
   "execution_count": 5,
   "id": "a1cb39e0",
   "metadata": {
    "slideshow": {
     "slide_type": "fragment"
    }
   },
   "outputs": [],
   "source": [
    "b = np.random.randint(1, 10, (100, 100))\n",
    "\n",
    "np.savez('data/arrays.npz', x=a, y=b)"
   ]
  },
  {
   "cell_type": "code",
   "execution_count": 6,
   "id": "1765b8dd",
   "metadata": {
    "slideshow": {
     "slide_type": "fragment"
    }
   },
   "outputs": [
    {
     "data": {
      "text/plain": [
       "['x', 'y']"
      ]
     },
     "execution_count": 6,
     "metadata": {},
     "output_type": "execute_result"
    }
   ],
   "source": [
    "data = np.load('data/arrays.npz')\n",
    "data.files"
   ]
  },
  {
   "cell_type": "code",
   "execution_count": 7,
   "id": "d839d450",
   "metadata": {
    "slideshow": {
     "slide_type": "fragment"
    }
   },
   "outputs": [
    {
     "data": {
      "text/plain": [
       "array([[7, 4, 3, ..., 9, 3, 9],\n",
       "       [7, 5, 5, ..., 6, 6, 1],\n",
       "       [1, 6, 4, ..., 3, 9, 6],\n",
       "       ...,\n",
       "       [1, 6, 7, ..., 5, 4, 9],\n",
       "       [4, 4, 6, ..., 3, 1, 8],\n",
       "       [8, 6, 8, ..., 6, 1, 1]])"
      ]
     },
     "execution_count": 7,
     "metadata": {},
     "output_type": "execute_result"
    }
   ],
   "source": [
    "data['x']"
   ]
  },
  {
   "cell_type": "markdown",
   "id": "6ea6f5b4",
   "metadata": {
    "slideshow": {
     "slide_type": "slide"
    }
   },
   "source": [
    "## 3.2 Masked arrays\n",
    "\n",
    "Sometimes you have an array with *invalid* values, or values you for want to omit, for one reason or another.\n",
    "\n",
    "One option is to create a boolean mask as we have previously seen.\n"
   ]
  },
  {
   "cell_type": "code",
   "execution_count": 8,
   "id": "366e1850",
   "metadata": {
    "slideshow": {
     "slide_type": "fragment"
    }
   },
   "outputs": [],
   "source": [
    "a = np.array([5, 2, 1, -1, 2.0]) # -1 is an invalid entry, an error in measurement for example."
   ]
  },
  {
   "cell_type": "code",
   "execution_count": 9,
   "id": "d437070c",
   "metadata": {
    "slideshow": {
     "slide_type": "fragment"
    }
   },
   "outputs": [
    {
     "data": {
      "text/plain": [
       "array([ True,  True,  True, False,  True])"
      ]
     },
     "execution_count": 9,
     "metadata": {},
     "output_type": "execute_result"
    }
   ],
   "source": [
    "i = a>=0\n",
    "i"
   ]
  },
  {
   "cell_type": "code",
   "execution_count": 10,
   "id": "68f309df",
   "metadata": {
    "slideshow": {
     "slide_type": "fragment"
    }
   },
   "outputs": [
    {
     "data": {
      "text/plain": [
       "2.5"
      ]
     },
     "execution_count": 10,
     "metadata": {},
     "output_type": "execute_result"
    }
   ],
   "source": [
    "a[i].mean()"
   ]
  },
  {
   "cell_type": "markdown",
   "id": "24b8224e",
   "metadata": {
    "slideshow": {
     "slide_type": "slide"
    }
   },
   "source": [
    "But another, more neat option, is to create an *masked array*."
   ]
  },
  {
   "cell_type": "code",
   "execution_count": 11,
   "id": "b3de0f11",
   "metadata": {
    "slideshow": {
     "slide_type": "fragment"
    }
   },
   "outputs": [
    {
     "data": {
      "text/plain": [
       "masked_array(data=[5.0, 2.0, 1.0, --, 2.0],\n",
       "             mask=[False, False, False,  True, False],\n",
       "       fill_value=1e+20)"
      ]
     },
     "execution_count": 11,
     "metadata": {},
     "output_type": "execute_result"
    }
   ],
   "source": [
    "b = np.ma.masked_array(a, a<0) # second argument is the mask, True for values that you *dont*  want\n",
    "b"
   ]
  },
  {
   "cell_type": "markdown",
   "id": "41c2ee04",
   "metadata": {
    "slideshow": {
     "slide_type": "fragment"
    }
   },
   "source": [
    "Now the array has the information of which values to omit *inside* the array, it is not another variable.\n",
    "\n",
    "Every operation you do with the array will consider the mask and omit those values."
   ]
  },
  {
   "cell_type": "code",
   "execution_count": 12,
   "id": "271f7fb3",
   "metadata": {
    "slideshow": {
     "slide_type": "fragment"
    }
   },
   "outputs": [
    {
     "data": {
      "text/plain": [
       "2.5"
      ]
     },
     "execution_count": 12,
     "metadata": {},
     "output_type": "execute_result"
    }
   ],
   "source": [
    "b.mean()"
   ]
  },
  {
   "cell_type": "markdown",
   "id": "30db8538",
   "metadata": {
    "slideshow": {
     "slide_type": "slide"
    }
   },
   "source": [
    "Another way of creating masked arrays is using some specific functions from the module  \n",
    "- ```np.ma.greater```, ```np.ma.greater_equal``` \n",
    "- ```np.ma.less```, ```np.ma.less_equal```\n",
    "- ```np.ma.masked_outside```\n",
    "- ```np.ma.masked_inside```\n",
    "- ```np.ma.masked_invalid``` marks NaNs as masked.\n",
    "... etc\n"
   ]
  },
  {
   "cell_type": "code",
   "execution_count": 13,
   "id": "38dc45b6",
   "metadata": {
    "slideshow": {
     "slide_type": "fragment"
    }
   },
   "outputs": [
    {
     "data": {
      "text/plain": [
       "array([ 5.,  2.,  1., -1.,  2.])"
      ]
     },
     "execution_count": 13,
     "metadata": {},
     "output_type": "execute_result"
    }
   ],
   "source": [
    "a"
   ]
  },
  {
   "cell_type": "code",
   "execution_count": 14,
   "id": "d3ca2a8a",
   "metadata": {
    "slideshow": {
     "slide_type": "fragment"
    }
   },
   "outputs": [
    {
     "data": {
      "text/plain": [
       "masked_array(data=[5.0, 2.0, 1.0, --, 2.0],\n",
       "             mask=[False, False, False,  True, False],\n",
       "       fill_value=1e+20)"
      ]
     },
     "execution_count": 14,
     "metadata": {},
     "output_type": "execute_result"
    }
   ],
   "source": [
    "np.ma.masked_less(a, 0)"
   ]
  },
  {
   "cell_type": "markdown",
   "id": "6aed954f",
   "metadata": {
    "slideshow": {
     "slide_type": "slide"
    }
   },
   "source": [
    "Accessing the full data is easy with the attribute ```data```"
   ]
  },
  {
   "cell_type": "code",
   "execution_count": 15,
   "id": "6bccdc7b",
   "metadata": {
    "slideshow": {
     "slide_type": "fragment"
    }
   },
   "outputs": [
    {
     "data": {
      "text/plain": [
       "array([ 5.,  2.,  1., -1.,  2.])"
      ]
     },
     "execution_count": 15,
     "metadata": {},
     "output_type": "execute_result"
    }
   ],
   "source": [
    "b.data"
   ]
  },
  {
   "cell_type": "markdown",
   "id": "4a13805c",
   "metadata": {
    "slideshow": {
     "slide_type": "fragment"
    }
   },
   "source": [
    "and the mask with attribute ```mask```"
   ]
  },
  {
   "cell_type": "code",
   "execution_count": 16,
   "id": "0c004d92",
   "metadata": {
    "slideshow": {
     "slide_type": "fragment"
    }
   },
   "outputs": [
    {
     "data": {
      "text/plain": [
       "array([False, False, False,  True, False])"
      ]
     },
     "execution_count": 16,
     "metadata": {},
     "output_type": "execute_result"
    }
   ],
   "source": [
    "b.mask"
   ]
  },
  {
   "cell_type": "markdown",
   "id": "4dc547a2",
   "metadata": {
    "slideshow": {
     "slide_type": "slide"
    }
   },
   "source": [
    "Modifying the mask: setting a new value to be masked by assigning ```np.ma.masked```"
   ]
  },
  {
   "cell_type": "code",
   "execution_count": 17,
   "id": "5fcc6657",
   "metadata": {
    "slideshow": {
     "slide_type": "fragment"
    }
   },
   "outputs": [],
   "source": [
    "b[0] = np.ma.masked"
   ]
  },
  {
   "cell_type": "code",
   "execution_count": 18,
   "id": "ad92c5b2",
   "metadata": {
    "slideshow": {
     "slide_type": "fragment"
    }
   },
   "outputs": [
    {
     "data": {
      "text/plain": [
       "masked_array(data=[--, 2.0, 1.0, --, 2.0],\n",
       "             mask=[ True, False, False,  True, False],\n",
       "       fill_value=1e+20)"
      ]
     },
     "execution_count": 18,
     "metadata": {},
     "output_type": "execute_result"
    }
   ],
   "source": [
    "b"
   ]
  },
  {
   "cell_type": "markdown",
   "id": "bf21fbcb",
   "metadata": {
    "slideshow": {
     "slide_type": "fragment"
    }
   },
   "source": [
    "Unmasking by assigning the original value "
   ]
  },
  {
   "cell_type": "code",
   "execution_count": 19,
   "id": "60d4767a",
   "metadata": {
    "slideshow": {
     "slide_type": "fragment"
    }
   },
   "outputs": [],
   "source": [
    "b[0]=b.data[0]"
   ]
  },
  {
   "cell_type": "code",
   "execution_count": 20,
   "id": "9b4bb7d5",
   "metadata": {
    "slideshow": {
     "slide_type": "fragment"
    }
   },
   "outputs": [
    {
     "data": {
      "text/plain": [
       "masked_array(data=[5.0, 2.0, 1.0, --, 2.0],\n",
       "             mask=[False, False, False,  True, False],\n",
       "       fill_value=1e+20)"
      ]
     },
     "execution_count": 20,
     "metadata": {},
     "output_type": "execute_result"
    }
   ],
   "source": [
    "b"
   ]
  },
  {
   "cell_type": "markdown",
   "id": "9a709044",
   "metadata": {
    "slideshow": {
     "slide_type": "slide"
    }
   },
   "source": [
    "Slicing and indexing works as you would expect, omiting masked values"
   ]
  },
  {
   "cell_type": "code",
   "execution_count": 21,
   "id": "08b62982",
   "metadata": {
    "slideshow": {
     "slide_type": "fragment"
    }
   },
   "outputs": [
    {
     "data": {
      "text/plain": [
       "1.5"
      ]
     },
     "execution_count": 21,
     "metadata": {},
     "output_type": "execute_result"
    }
   ],
   "source": [
    "b[2:].mean()"
   ]
  },
  {
   "cell_type": "markdown",
   "id": "82a8dd2f",
   "metadata": {
    "slideshow": {
     "slide_type": "slide"
    }
   },
   "source": [
    "All *ufuncs* work as expected, ignoring the masked values (despite warning...)"
   ]
  },
  {
   "cell_type": "code",
   "execution_count": 22,
   "id": "c54a366c",
   "metadata": {
    "slideshow": {
     "slide_type": "fragment"
    }
   },
   "outputs": [
    {
     "name": "stderr",
     "output_type": "stream",
     "text": [
      "/tmp/ipykernel_8946/1512873993.py:1: RuntimeWarning: invalid value encountered in log\n",
      "  l = np.log(b)\n"
     ]
    }
   ],
   "source": [
    "l = np.log(b)\n",
    "#np.ma.masked_invalid(np.log(a))\n"
   ]
  },
  {
   "cell_type": "code",
   "execution_count": 23,
   "id": "8117db44",
   "metadata": {
    "slideshow": {
     "slide_type": "fragment"
    }
   },
   "outputs": [
    {
     "data": {
      "text/plain": [
       "2.995732273553991"
      ]
     },
     "execution_count": 23,
     "metadata": {},
     "output_type": "execute_result"
    }
   ],
   "source": [
    "np.sum(l)"
   ]
  },
  {
   "cell_type": "code",
   "execution_count": 24,
   "id": "3740130e",
   "metadata": {
    "slideshow": {
     "slide_type": "fragment"
    }
   },
   "outputs": [
    {
     "data": {
      "text/plain": [
       "2.995732273553991"
      ]
     },
     "execution_count": 24,
     "metadata": {},
     "output_type": "execute_result"
    }
   ],
   "source": [
    "np.sum(np.log(b[i]))"
   ]
  },
  {
   "cell_type": "markdown",
   "id": "1dc56312",
   "metadata": {
    "slideshow": {
     "slide_type": "slide"
    }
   },
   "source": [
    "Numerical operations can be easily performed without worrying about missing values, dividing by zero, square roots of negative numbers, etc."
   ]
  },
  {
   "cell_type": "code",
   "execution_count": 25,
   "id": "a4539e69",
   "metadata": {
    "slideshow": {
     "slide_type": "fragment"
    }
   },
   "outputs": [
    {
     "name": "stdout",
     "output_type": "stream",
     "text": [
      "[1.0 -- -- 1.4142135623730951 -- --]\n"
     ]
    }
   ],
   "source": [
    "x = np.ma.array([1., -1., 3., 4., 5., 6.], mask=[0,0,0,0,1,0])\n",
    "y = np.ma.array([1., 2., 0., 2., 5., 6.], mask=[0,0,0,0,0,1])\n",
    "\n",
    "print(np.ma.sqrt(x/y))"
   ]
  },
  {
   "cell_type": "markdown",
   "id": "a5c8a510",
   "metadata": {
    "slideshow": {
     "slide_type": "slide"
    }
   },
   "source": [
    "# Exercises\n",
    "\n",
    "### Exercise 1\n",
    "\n",
    "- Create a vector of 1000 random samples that are normally distributed with mean 0 and standard deviation of 1. Use ```np.random.normal``` for it (consult the documentation of the function if needed, by typing ```np.random.normal?```).\n",
    "\n",
    "- Cut all the samples above and below mean +- 1 standard deviations of the sample.\n",
    "- Visualize the distribution of samples before and after so that you can compare them.\n"
   ]
  },
  {
   "cell_type": "code",
   "execution_count": 26,
   "id": "35da075d",
   "metadata": {},
   "outputs": [],
   "source": [
    "a = np.random.normal(loc=0, scale=1, size=1000)"
   ]
  },
  {
   "cell_type": "code",
   "execution_count": 27,
   "id": "b2a02613",
   "metadata": {},
   "outputs": [
    {
     "data": {
      "text/plain": [
       "0.5040008827134241"
      ]
     },
     "execution_count": 27,
     "metadata": {},
     "output_type": "execute_result"
    }
   ],
   "source": [
    "b = np.ma.masked_outside(a, a.mean() - 1*a.std(), a.mean() + 1*a.std())\n",
    "b.std()"
   ]
  },
  {
   "cell_type": "code",
   "execution_count": 28,
   "id": "e1bd2852",
   "metadata": {},
   "outputs": [
    {
     "data": {
      "text/plain": [
       "(-3.0, 3.0)"
      ]
     },
     "execution_count": 28,
     "metadata": {},
     "output_type": "execute_result"
    },
    {
     "data": {
      "image/png": "[encoded data removed]",
      "text/plain": [
       "<Figure size 432x288 with 2 Axes>"
      ]
     },
     "metadata": {
      "needs_background": "light"
     },
     "output_type": "display_data"
    }
   ],
   "source": [
    "fig, ax = plt.subplots(2,1)\n",
    "ax[0].hist(a)\n",
    "ax[1].hist(b)\n",
    "ax[0].set_xlim((-3, 3))\n",
    "ax[1].set_xlim((-3, 3))"
   ]
  },
  {
   "cell_type": "markdown",
   "id": "69d68117",
   "metadata": {
    "slideshow": {
     "slide_type": "slide"
    }
   },
   "source": [
    "### Exercise 2\n",
    "\n",
    "We will create a circular mask and apply it to the following image. Then we will compute the mean gray value in the masked image. The image is already loaded in numpy array ```img```."
   ]
  },
  {
   "cell_type": "code",
   "execution_count": 29,
   "id": "3e3cbf05",
   "metadata": {
    "slideshow": {
     "slide_type": "-"
    }
   },
   "outputs": [
    {
     "data": {
      "text/plain": [
       "<matplotlib.image.AxesImage at 0x7f080eda4370>"
      ]
     },
     "execution_count": 29,
     "metadata": {},
     "output_type": "execute_result"
    },
    {
     "data": {
      "image/png": "[encoded data removed]",
      "text/plain": [
       "<Figure size 432x288 with 1 Axes>"
      ]
     },
     "metadata": {
      "needs_background": "light"
     },
     "output_type": "display_data"
    }
   ],
   "source": [
    "from PIL import Image\n",
    "\n",
    "img = np.asarray(Image.open('imgs/einstein.png').convert('L'))\n",
    "plt.imshow(img, cmap='gray')"
   ]
  },
  {
   "cell_type": "markdown",
   "id": "649a1d13",
   "metadata": {},
   "source": [
    "\n",
    "Step 1. Create a circular mask as shown below. Size of the array should be the same as the image. You can choose the radius, here shown is a radius of 100 pixels.\n",
    "\n",
    "![imgs/mask.png](imgs/mask.png)"
   ]
  },
  {
   "cell_type": "code",
   "execution_count": 30,
   "id": "e3ad7952",
   "metadata": {},
   "outputs": [
    {
     "data": {
      "text/plain": [
       "<matplotlib.image.AxesImage at 0x7f080eda0760>"
      ]
     },
     "execution_count": 30,
     "metadata": {},
     "output_type": "execute_result"
    },
    {
     "data": {
      "image/png": "[encoded data removed]",
      "text/plain": [
       "<Figure size 432x288 with 1 Axes>"
      ]
     },
     "metadata": {
      "needs_background": "light"
     },
     "output_type": "display_data"
    }
   ],
   "source": [
    "# solution cell\n",
    "center = img.shape\n",
    "radius = 100\n",
    "\n",
    "y, x = np.mgrid[0:img.shape[0], 0:img.shape[1]]\n",
    "x = x - img.shape[0]/2\n",
    "y = y - img.shape[1]/2.0\n",
    "\n",
    "circle = (x**2)+(y**2)\n",
    "i = circle>=radius**2\n",
    "\n",
    "#fig = plt.figure(figsize=(4, 4))\n",
    "plt.imshow(i)\n",
    "#fig.savefig('mask.png')\n"
   ]
  },
  {
   "cell_type": "markdown",
   "id": "9904ce32",
   "metadata": {},
   "source": [
    "Step 2: create a masked array, using the circular mask and applying it to the image."
   ]
  },
  {
   "cell_type": "code",
   "execution_count": 31,
   "id": "3cad37ef",
   "metadata": {},
   "outputs": [
    {
     "data": {
      "text/plain": [
       "masked_array(\n",
       "  data=[[--, --, --, ..., --, --, --],\n",
       "        [--, --, --, ..., --, --, --],\n",
       "        [--, --, --, ..., --, --, --],\n",
       "        ...,\n",
       "        [--, --, --, ..., --, --, --],\n",
       "        [--, --, --, ..., --, --, --],\n",
       "        [--, --, --, ..., --, --, --]],\n",
       "  mask=[[ True,  True,  True, ...,  True,  True,  True],\n",
       "        [ True,  True,  True, ...,  True,  True,  True],\n",
       "        [ True,  True,  True, ...,  True,  True,  True],\n",
       "        ...,\n",
       "        [ True,  True,  True, ...,  True,  True,  True],\n",
       "        [ True,  True,  True, ...,  True,  True,  True],\n",
       "        [ True,  True,  True, ...,  True,  True,  True]],\n",
       "  fill_value=999999,\n",
       "  dtype=uint8)"
      ]
     },
     "execution_count": 31,
     "metadata": {},
     "output_type": "execute_result"
    }
   ],
   "source": [
    "img2 = np.ma.masked_array(img, i)\n",
    "img2"
   ]
  },
  {
   "cell_type": "markdown",
   "id": "3c73d55f",
   "metadata": {},
   "source": [
    "Step 3: visualize the masked image with ```plt.imshow```"
   ]
  },
  {
   "cell_type": "code",
   "execution_count": 32,
   "id": "c86edf0d",
   "metadata": {},
   "outputs": [
    {
     "data": {
      "text/plain": [
       "<matplotlib.image.AxesImage at 0x7f080d507190>"
      ]
     },
     "execution_count": 32,
     "metadata": {},
     "output_type": "execute_result"
    },
    {
     "data": {
      "image/png": "[encoded data removed]",
      "text/plain": [
       "<Figure size 432x288 with 1 Axes>"
      ]
     },
     "metadata": {
      "needs_background": "light"
     },
     "output_type": "display_data"
    }
   ],
   "source": [
    "plt.imshow(img2, cmap='gray')"
   ]
  },
  {
   "cell_type": "markdown",
   "id": "5c6ac121",
   "metadata": {},
   "source": [
    "Final step: compute the mean value across both axis, that is, the means taken horizontally and taken vertically. Visualize the distribution as a histogram"
   ]
  },
  {
   "cell_type": "code",
   "execution_count": 33,
   "id": "3223e16c",
   "metadata": {},
   "outputs": [
    {
     "data": {
      "text/plain": [
       "(array([10., 12., 19., 23., 42., 41., 18., 13.,  2., 19.]),\n",
       " array([ 91.34482759,  96.52600748, 101.70718737, 106.88836726,\n",
       "        112.06954715, 117.25072705, 122.43190694, 127.61308683,\n",
       "        132.79426672, 137.97544661, 143.15662651]),\n",
       " <BarContainer object of 10 artists>)"
      ]
     },
     "execution_count": 33,
     "metadata": {},
     "output_type": "execute_result"
    },
    {
     "data": {
      "image/png": "[encoded data removed]",
      "text/plain": [
       "<Figure size 432x288 with 1 Axes>"
      ]
     },
     "metadata": {
      "needs_background": "light"
     },
     "output_type": "display_data"
    }
   ],
   "source": [
    "plt.hist(img2.mean(axis=0))\n",
    "plt.hist(img2.mean(axis=1))\n"
   ]
  },
  {
   "cell_type": "markdown",
   "id": "7799bb5f",
   "metadata": {},
   "source": [
    "You will see that the distributions are different, as the image is not spatially homogeneous.\n",
    "\n",
    "If you try to do this with boolean indexing, you'll see that it is much more complicated, because regular indexing with a boolean mask returns you a 1-D vector. "
   ]
  },
  {
   "cell_type": "code",
   "execution_count": 34,
   "id": "4358c008",
   "metadata": {},
   "outputs": [
    {
     "data": {
      "text/plain": [
       "array([92, 67, 57, ..., 61, 57, 56], dtype=uint8)"
      ]
     },
     "execution_count": 34,
     "metadata": {},
     "output_type": "execute_result"
    }
   ],
   "source": [
    "img[i]"
   ]
  },
  {
   "cell_type": "code",
   "execution_count": null,
   "id": "4222b37e",
   "metadata": {},
   "outputs": [],
   "source": []
  }
 ],
 "metadata": {
  "celltoolbar": "Slideshow",
  "kernelspec": {
   "display_name": "Python 3 (ipykernel)",
   "language": "python",
   "name": "python3"
  },
  "language_info": {
   "codemirror_mode": {
    "name": "ipython",
    "version": 3
   },
   "file_extension": ".py",
   "mimetype": "text/x-python",
   "name": "python",
   "nbconvert_exporter": "python",
   "pygments_lexer": "ipython3",
   "version": "3.8.13"
  },
  "rise": {
   "scroll": true
  }
 },
 "nbformat": 4,
 "nbformat_minor": 5
}
